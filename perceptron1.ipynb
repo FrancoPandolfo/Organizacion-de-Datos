{
 "cells": [
  {
   "cell_type": "code",
   "execution_count": 4,
   "metadata": {},
   "outputs": [],
   "source": [
    "import numpy as np\n",
    "from sklearn import datasets\n",
    "from sklearn.model_selection import train_test_split\n",
    "from sklearn.preprocessing import StandardScaler\n",
    "from sklearn.linear_model import Perceptron\n",
    "from sklearn.metrics import accuracy_score\n",
    "from matplotlib.colors import ListedColormap\n",
    "import matplotlib.pyplot as plt\n",
    "from matplotlib import rcParams\n",
    "rcParams[\"figure.figsize\"] = 10, 5\n",
    "%matplotlib inline"
   ]
  },
  {
   "cell_type": "code",
   "execution_count": 5,
   "metadata": {},
   "outputs": [],
   "source": [
    "# load iris dataset from sklearn\n",
    "iris = datasets.load_iris()\n",
    "\n",
    "# separate features and targets\n",
    "x = iris.data\n",
    "y = iris.target"
   ]
  },
  {
   "cell_type": "code",
   "execution_count": 6,
   "metadata": {},
   "outputs": [],
   "source": [
    "# now we'll use train_test_slit from sklearn\n",
    "# to split the data into training and testing sets\n",
    "test_size = 0.3 # could also specify train_size = 0.7 instead\n",
    "random_state = 0\n",
    "\n",
    "# train_test_split convenience function\n",
    "X_train, X_test, y_train, y_test = train_test_split(x, y, test_size = test_size, random_state = random_state)"
   ]
  },
  {
   "cell_type": "code",
   "execution_count": 7,
   "metadata": {},
   "outputs": [
    {
     "name": "stdout",
     "output_type": "stream",
     "text": [
      "Unique labels: [0 1 2]\n"
     ]
    }
   ],
   "source": [
    "# standarize the data like we did before, but use\n",
    "# the StandardScaler from sklearn\n",
    "\n",
    "#create the instance\n",
    "sc = StandardScaler()\n",
    "\n",
    "# fit the scaler to the training feature set ONLY\n",
    "sc.fit(X_train)\n",
    "\n",
    "# scale (transform) the training AND the testing sets\n",
    "# using the scaler that was fitted to training data\n",
    "X_train_std = sc.transform(X_train)\n",
    "X_test_std = sc.transform(X_test)\n",
    "\n",
    "# it is important to transform non-numeric target \n",
    "# values into numbers prior to splitting the data\n",
    "# to avoid unexpected results when modeling\n",
    "print(\"Unique labels: {0}\".format(np.unique(y)))"
   ]
  },
  {
   "cell_type": "code",
   "execution_count": 8,
   "metadata": {},
   "outputs": [],
   "source": [
    "# we will select a subset of the features as before\n",
    "X_train_std = X_train_std[:, [2, 3]]\n",
    "X_test_std = X_test_std[:, [2, 3]]"
   ]
  },
  {
   "cell_type": "code",
   "execution_count": 9,
   "metadata": {},
   "outputs": [
    {
     "name": "stderr",
     "output_type": "stream",
     "text": [
      "C:\\Users\\franc\\Anaconda3\\lib\\site-packages\\sklearn\\linear_model\\stochastic_gradient.py:117: DeprecationWarning: n_iter parameter is deprecated in 0.19 and will be removed in 0.21. Use max_iter and tol instead.\n",
      "  DeprecationWarning)\n"
     ]
    }
   ],
   "source": [
    "# let's train a model using sklearn\n",
    "# implementation of perceptron\n",
    "n_iter = 40\n",
    "eta0 = 0.1 # same as eta (learning rate) in our implementation\n",
    "\n",
    "# create the perceptron instance\n",
    "ppn = Perceptron(n_iter = n_iter, eta0 = eta0, random_state = random_state)\n",
    "\n",
    "# fit the model to the standarized data\n",
    "ppn.fit(X_train_std, y_train)\n",
    "\n",
    "# make predictions!\n",
    "y_pred = ppn.predict(X_test_std)"
   ]
  },
  {
   "cell_type": "code",
   "execution_count": 10,
   "metadata": {},
   "outputs": [
    {
     "name": "stdout",
     "output_type": "stream",
     "text": [
      "accuracy: 91.111111%\n"
     ]
    }
   ],
   "source": [
    "# we can measure performance using the accuracy_score\n",
    "# convenience function in sklearn\n",
    "print(\"accuracy: {0:2f}%\".format(accuracy_score(y_test, y_pred) * 100))"
   ]
  }
 ],
 "metadata": {
  "kernelspec": {
   "display_name": "Python 3",
   "language": "python",
   "name": "python3"
  },
  "language_info": {
   "codemirror_mode": {
    "name": "ipython",
    "version": 3
   },
   "file_extension": ".py",
   "mimetype": "text/x-python",
   "name": "python",
   "nbconvert_exporter": "python",
   "pygments_lexer": "ipython3",
   "version": "3.7.0"
  }
 },
 "nbformat": 4,
 "nbformat_minor": 2
}

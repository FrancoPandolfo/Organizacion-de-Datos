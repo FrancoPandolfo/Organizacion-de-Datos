{
 "cells": [
  {
   "cell_type": "code",
   "execution_count": 3,
   "metadata": {},
   "outputs": [],
   "source": [
    "import pandas as pd\n",
    "import numpy as np"
   ]
  },
  {
   "cell_type": "markdown",
   "metadata": {},
   "source": [
    "2) Tenemos un dataframe con la información de distintas playlists\n",
    "armadas por usuarios con el formato (playlist, song_id,\n",
    "description). A su vez, contamos con un dataframe de canciones\n",
    "que contiene (song_id, singer, year, lenght, genres).\n",
    "Se pide generar un programa en Pandas que indique para cada\n",
    "playlist cual es el cantante predominante (con mas canciones\n",
    "incluidas dentro de esa lista). (**) (15 pts) "
   ]
  },
  {
   "cell_type": "code",
   "execution_count": 16,
   "metadata": {},
   "outputs": [
    {
     "data": {
      "text/html": [
       "<div>\n",
       "<style scoped>\n",
       "    .dataframe tbody tr th:only-of-type {\n",
       "        vertical-align: middle;\n",
       "    }\n",
       "\n",
       "    .dataframe tbody tr th {\n",
       "        vertical-align: top;\n",
       "    }\n",
       "\n",
       "    .dataframe thead th {\n",
       "        text-align: right;\n",
       "    }\n",
       "</style>\n",
       "<table border=\"1\" class=\"dataframe\">\n",
       "  <thead>\n",
       "    <tr style=\"text-align: right;\">\n",
       "      <th></th>\n",
       "      <th>song_id</th>\n",
       "      <th>singer</th>\n",
       "      <th>year</th>\n",
       "      <th>lenght</th>\n",
       "      <th>genres</th>\n",
       "    </tr>\n",
       "  </thead>\n",
       "  <tbody>\n",
       "    <tr>\n",
       "      <th>0</th>\n",
       "      <td>0</td>\n",
       "      <td>8</td>\n",
       "      <td>2016</td>\n",
       "      <td>1</td>\n",
       "      <td>Rock</td>\n",
       "    </tr>\n",
       "    <tr>\n",
       "      <th>1</th>\n",
       "      <td>1</td>\n",
       "      <td>48</td>\n",
       "      <td>2016</td>\n",
       "      <td>1</td>\n",
       "      <td>Cumbia</td>\n",
       "    </tr>\n",
       "    <tr>\n",
       "      <th>2</th>\n",
       "      <td>2</td>\n",
       "      <td>28</td>\n",
       "      <td>2017</td>\n",
       "      <td>0</td>\n",
       "      <td>Cumbia</td>\n",
       "    </tr>\n",
       "    <tr>\n",
       "      <th>3</th>\n",
       "      <td>3</td>\n",
       "      <td>18</td>\n",
       "      <td>2015</td>\n",
       "      <td>1</td>\n",
       "      <td>Cumbia</td>\n",
       "    </tr>\n",
       "    <tr>\n",
       "      <th>4</th>\n",
       "      <td>4</td>\n",
       "      <td>28</td>\n",
       "      <td>2015</td>\n",
       "      <td>3</td>\n",
       "      <td>Reggaeton</td>\n",
       "    </tr>\n",
       "  </tbody>\n",
       "</table>\n",
       "</div>"
      ],
      "text/plain": [
       "   song_id  singer  year  lenght     genres\n",
       "0        0       8  2016       1       Rock\n",
       "1        1      48  2016       1     Cumbia\n",
       "2        2      28  2017       0     Cumbia\n",
       "3        3      18  2015       1     Cumbia\n",
       "4        4      28  2015       3  Reggaeton"
      ]
     },
     "execution_count": 16,
     "metadata": {},
     "output_type": "execute_result"
    }
   ],
   "source": [
    "#Genero algunos datos de prueba\n",
    "num_datos = 1000\n",
    "\n",
    "canciones = pd.DataFrame({\n",
    "    'song_id': np.arange(num_datos),\n",
    "    \n",
    "    'singer': np.random.choice(np.arange(50), num_datos),\n",
    "    \n",
    "    'year': np.random.choice([2015,2016,2017],num_datos),\n",
    "  \n",
    "    'lenght':np.random.choice(4, num_datos),\n",
    "   \n",
    "    'genres': np.random.choice(['Rock','Cumbia','Reggaeton','Metal','Folclore'], num_datos),\n",
    "})\n",
    "\n",
    "canciones.head()"
   ]
  },
  {
   "cell_type": "code",
   "execution_count": 17,
   "metadata": {},
   "outputs": [
    {
     "data": {
      "text/html": [
       "<div>\n",
       "<style scoped>\n",
       "    .dataframe tbody tr th:only-of-type {\n",
       "        vertical-align: middle;\n",
       "    }\n",
       "\n",
       "    .dataframe tbody tr th {\n",
       "        vertical-align: top;\n",
       "    }\n",
       "\n",
       "    .dataframe thead th {\n",
       "        text-align: right;\n",
       "    }\n",
       "</style>\n",
       "<table border=\"1\" class=\"dataframe\">\n",
       "  <thead>\n",
       "    <tr style=\"text-align: right;\">\n",
       "      <th></th>\n",
       "      <th>playlist</th>\n",
       "      <th>song_id</th>\n",
       "      <th>description</th>\n",
       "    </tr>\n",
       "  </thead>\n",
       "  <tbody>\n",
       "    <tr>\n",
       "      <th>0</th>\n",
       "      <td>6</td>\n",
       "      <td>923</td>\n",
       "      <td>s/d</td>\n",
       "    </tr>\n",
       "    <tr>\n",
       "      <th>1</th>\n",
       "      <td>80</td>\n",
       "      <td>204</td>\n",
       "      <td>s/d</td>\n",
       "    </tr>\n",
       "    <tr>\n",
       "      <th>2</th>\n",
       "      <td>91</td>\n",
       "      <td>366</td>\n",
       "      <td>s/d</td>\n",
       "    </tr>\n",
       "    <tr>\n",
       "      <th>3</th>\n",
       "      <td>98</td>\n",
       "      <td>374</td>\n",
       "      <td>s/d</td>\n",
       "    </tr>\n",
       "    <tr>\n",
       "      <th>4</th>\n",
       "      <td>88</td>\n",
       "      <td>43</td>\n",
       "      <td>s/d</td>\n",
       "    </tr>\n",
       "  </tbody>\n",
       "</table>\n",
       "</div>"
      ],
      "text/plain": [
       "   playlist  song_id description\n",
       "0         6      923         s/d\n",
       "1        80      204         s/d\n",
       "2        91      366         s/d\n",
       "3        98      374         s/d\n",
       "4        88       43         s/d"
      ]
     },
     "execution_count": 17,
     "metadata": {},
     "output_type": "execute_result"
    }
   ],
   "source": [
    "informaciones = pd.DataFrame({\n",
    "        'playlist': np.random.choice(np.arange(100), num_datos),\n",
    "        'song_id':np.random.choice(np.arange(num_datos), num_datos),\n",
    "        'description': ['s/d'] * num_datos\n",
    "})\n",
    "informaciones.head()"
   ]
  },
  {
   "cell_type": "markdown",
   "metadata": {},
   "source": [
    "#### Consigna: Se pide generar un programa en Pandas que indique para cada playlist cual es el cantante predominante (con mas canciones incluidas dentro de esa lista)"
   ]
  },
  {
   "cell_type": "code",
   "execution_count": 18,
   "metadata": {},
   "outputs": [],
   "source": [
    "#Mergeo por song_id en el de canciones, Para cada playlist agrupo por cantante y song_id \n",
    "#y cuento las song_id de cada uno,luego muestro el que tiene mas canciones por playlist"
   ]
  },
  {
   "cell_type": "code",
   "execution_count": 63,
   "metadata": {},
   "outputs": [],
   "source": [
    "union = pd.merge(canciones, informaciones, on='song_id',how= 'inner')"
   ]
  },
  {
   "cell_type": "code",
   "execution_count": 85,
   "metadata": {},
   "outputs": [
    {
     "data": {
      "text/plain": [
       "playlist  singer\n",
       "0         0         1\n",
       "          2         1\n",
       "          11        1\n",
       "          12        1\n",
       "          16        2\n",
       "          19        1\n",
       "          20        2\n",
       "          29        1\n",
       "          32        1\n",
       "          33        1\n",
       "          39        1\n",
       "          40        1\n",
       "          45        1\n",
       "1         10        1\n",
       "          12        1\n",
       "          14        1\n",
       "          18        2\n",
       "          20        1\n",
       "          29        1\n",
       "          31        1\n",
       "          32        1\n",
       "          33        1\n",
       "          38        1\n",
       "          48        1\n",
       "2         0         1\n",
       "          18        1\n",
       "          25        1\n",
       "          33        1\n",
       "          42        1\n",
       "          43        1\n",
       "                   ..\n",
       "97        0         1\n",
       "          13        2\n",
       "          19        1\n",
       "          20        1\n",
       "          21        1\n",
       "          28        1\n",
       "          29        1\n",
       "          31        2\n",
       "          34        1\n",
       "          35        1\n",
       "          39        1\n",
       "98        1         1\n",
       "          4         1\n",
       "          7         2\n",
       "          10        1\n",
       "          14        1\n",
       "          15        1\n",
       "          20        1\n",
       "          26        1\n",
       "          31        1\n",
       "          37        1\n",
       "          38        1\n",
       "          45        1\n",
       "          46        1\n",
       "99        15        2\n",
       "          31        1\n",
       "          35        1\n",
       "          38        1\n",
       "          42        1\n",
       "          48        1\n",
       "Name: song_id, Length: 903, dtype: int64"
      ]
     },
     "execution_count": 85,
     "metadata": {},
     "output_type": "execute_result"
    }
   ],
   "source": [
    "union2 = union.groupby(['playlist','singer']).agg({'song_id':'count'}).reset_index()\n",
    "union2.groupby(['playlist','singer'])['song_id'].max()"
   ]
  },
  {
   "cell_type": "code",
   "execution_count": null,
   "metadata": {},
   "outputs": [],
   "source": []
  }
 ],
 "metadata": {
  "kernelspec": {
   "display_name": "Python 3",
   "language": "python",
   "name": "python3"
  },
  "language_info": {
   "codemirror_mode": {
    "name": "ipython",
    "version": 3
   },
   "file_extension": ".py",
   "mimetype": "text/x-python",
   "name": "python",
   "nbconvert_exporter": "python",
   "pygments_lexer": "ipython3",
   "version": "3.6.5"
  }
 },
 "nbformat": 4,
 "nbformat_minor": 2
}

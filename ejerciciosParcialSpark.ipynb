{
 "cells": [
  {
   "cell_type": "code",
   "execution_count": 1,
   "metadata": {},
   "outputs": [],
   "source": [
    "import pandas as pd\n",
    "import numpy as np"
   ]
  },
  {
   "cell_type": "markdown",
   "metadata": {},
   "source": [
    "El Gotham Police Department recolecta la información de casos policiales que acontecen en ciudad gótica. Esta información se encuentra guardada en un archivo con el siguiente formato: (fecha, id_caso, descripcion, estado_caso, categoria, latitud, longitud) Los estados son: 1 para un caso abierto, 2 para un caso resuelto, 3 para uno cerrado sin resolución.\n",
    "\n",
    "El comisionado Gordon guarda en un registro privado en qué casos fue activada la batiseñal, y en qué casos se tuvo una respuesta positiva (1) del vigilante y en cuáles negativa (0). El archivo tiene formato (id_caso, respuesta)."
   ]
  },
  {
   "cell_type": "code",
   "execution_count": 26,
   "metadata": {},
   "outputs": [],
   "source": [
    "casos = sc.parallelize([\\\n",
    "    (1,20180802, 1, 'asesinato',1),\\\n",
    "    (2,20180503, 2, 'hurto',11),\\\n",
    "    (3,20180702, 1,'incendio',1),\\\n",
    "    (4,20180805, 2, 'robo',2),\\\n",
    "    (5,20180502, 1, 'comercio de armas',1),\\\n",
    "    (6,20180702, 3, 'comercio de armas',4),\\\n",
    "    (7,20170102, 1, 'asesinato',9),\\\n",
    "    (8,20180802, 2, 'incendio',6),\\\n",
    "    (9,20180202, 3, 'hurto',5),\\\n",
    "    (10,20180705, 2, 'enriquecimiento_ilicito',5),\\\n",
    "    (11,20180702, 1, 'drogas',5),\\\n",
    "    (12,20180502, 1, 'comercio de armas',4),\\\n",
    "    (13,20180402, 3, 'drogas',5),\\\n",
    "    (14,20180102, 1, 'comercio',9),\\\n",
    "    (15,20180702, 3, 'comercio de armas',1),\\\n",
    "    (16,20180302, 1, 'drogas',2),\\\n",
    "    (17,20180502,3, 'comercio de armas',4),\\\n",
    "    (18,201801802,1, 'incendio',3),\\\n",
    "    (19,20180102, 3, 'asesinato',4),\\\n",
    "    (20,20180202, 2, 'incendio',4),\\\n",
    "    (21,20180402,3, 'robo',4),\\\n",
    "    (22,20180302,1, 'asesinato',4),\\\n",
    "    (23,201801802,3, 'incendio',8),\\\n",
    "    (24,20180802, 3, 'asesinato',4),\\\n",
    "    (25,20180702,2, 'incendio',4),\\\n",
    "    (26,20180602,3, 'robo',4),\\\n",
    "    (27,20180805, 3, 'incendio',8),\\\n",
    "    (28,20180902, 3, 'asesinato',4),\\\n",
    "    (29,20180802,2, 'incendio',4),\\\n",
    "    (30,3,20181002,'robo',4)\\\n",
    "])\n",
    "\n"
   ]
  },
  {
   "cell_type": "code",
   "execution_count": 27,
   "metadata": {},
   "outputs": [],
   "source": [
    "batman = sc.parallelize([\n",
    "        (1,1),\n",
    "        (2,0),\n",
    "        (3,1),\n",
    "        (5,0),\n",
    "        (6,1),\n",
    "        (8,1),\n",
    "        (9,1),\n",
    "        (11,0),\n",
    "        (12,0),\n",
    "        (13,1),\n",
    "        (17,1),\n",
    "        (18,0),\n",
    "        (19,1),\n",
    "        (20,0),\n",
    "        (21,1),\n",
    "        (22,1),\n",
    "        (27,0),\n",
    "        (28,1),\n",
    "        (29,1),\n",
    "        (30,0)    \n",
    "])\n"
   ]
  },
  {
   "cell_type": "markdown",
   "metadata": {},
   "source": [
    "Primer punto\n",
    "Se pide, en primer lugar: las categorías que hayan incrementado su tasa de resolución al menos un 10% en el último trimestre, con respecto al trimestre anterior."
   ]
  },
  {
   "cell_type": "code",
   "execution_count": 28,
   "metadata": {},
   "outputs": [
    {
     "data": {
      "text/plain": [
       "[(1, 20180802, 1, 'asesinato', 1),\n",
       " (2, 20180503, 2, 'hurto', 11),\n",
       " (3, 20180702, 1, 'incendio', 1),\n",
       " (4, 20180805, 2, 'robo', 2),\n",
       " (5, 20180502, 1, 'comercio de armas', 1),\n",
       " (6, 20180702, 3, 'comercio de armas', 4),\n",
       " (7, 20170102, 1, 'asesinato', 9),\n",
       " (8, 20180802, 2, 'incendio', 6),\n",
       " (9, 20180202, 3, 'hurto', 5),\n",
       " (10, 20180705, 2, 'enriquecimiento_ilicito', 5),\n",
       " (11, 20180702, 1, 'drogas', 5),\n",
       " (12, 20180502, 1, 'comercio de armas', 4),\n",
       " (13, 20180402, 3, 'drogas', 5),\n",
       " (14, 20180102, 1, 'comercio', 9),\n",
       " (15, 20180702, 3, 'comercio de armas', 1),\n",
       " (16, 20180302, 1, 'drogas', 2),\n",
       " (17, 20180502, 3, 'comercio de armas', 4),\n",
       " (18, 201801802, 1, 'incendio', 3),\n",
       " (19, 20180102, 3, 'asesinato', 4),\n",
       " (20, 20180202, 2, 'incendio', 4),\n",
       " (21, 20180402, 3, 'robo', 4),\n",
       " (22, 20180302, 1, 'asesinato', 4),\n",
       " (23, 201801802, 3, 'incendio', 8),\n",
       " (24, 20180802, 3, 'asesinato', 4),\n",
       " (25, 20180702, 2, 'incendio', 4),\n",
       " (26, 20180602, 3, 'robo', 4),\n",
       " (27, 20180805, 3, 'incendio', 8),\n",
       " (28, 20180902, 3, 'asesinato', 4),\n",
       " (29, 20180802, 2, 'incendio', 4),\n",
       " (30, 3, 20181002, 'robo', 4)]"
      ]
     },
     "execution_count": 28,
     "metadata": {},
     "output_type": "execute_result"
    }
   ],
   "source": [
    "#Tengo algo del tipo fecha,id_caso, estado_caso, categoria\n",
    "casos.collect()"
   ]
  },
  {
   "cell_type": "code",
   "execution_count": 4,
   "metadata": {},
   "outputs": [],
   "source": [
    "#voy a necesitar filtrar los casos por ambos trimestres\n",
    "primerTrimestre = casos.filter(lambda x: (x[0] < 20180717) and (x[0] > 20180417))\n",
    "segundoTrimestre = casos.filter(lambda x: (x[0] < 20181017) and (x[0] >= 20180717))"
   ]
  },
  {
   "cell_type": "code",
   "execution_count": 11,
   "metadata": {},
   "outputs": [],
   "source": [
    "#Necesito algo del estilo (categoria,id_caso,fecha),(estado))\n",
    "totalCasos = primerTrimestre.map(lambda x: ((x[3],x[1],x[0]),(x[2],1)))\n",
    "totalCasos."
   ]
  },
  {
   "cell_type": "code",
   "execution_count": null,
   "metadata": {},
   "outputs": [],
   "source": []
  },
  {
   "cell_type": "code",
   "execution_count": 33,
   "metadata": {},
   "outputs": [],
   "source": [
    "#Me quedo con los id_caso,categoria,estado_caso\n",
    "casos_by_id = casos.map(lambda x: (x[0],(x[3],x[2])))\n"
   ]
  },
  {
   "cell_type": "code",
   "execution_count": 41,
   "metadata": {},
   "outputs": [],
   "source": [
    "#Mergeo con los casos de batman\n",
    "casos_join = casos_by_id.leftOuterJoin(batman)"
   ]
  },
  {
   "cell_type": "code",
   "execution_count": 44,
   "metadata": {},
   "outputs": [
    {
     "data": {
      "text/plain": [
       "[(8, (('incendio', 2), 1)),\n",
       " (16, (('drogas', 1), None)),\n",
       " (24, (('asesinato', 3), None)),\n",
       " (1, (('asesinato', 1), 1)),\n",
       " (9, (('hurto', 3), 1)),\n",
       " (17, (('comercio de armas', 3), 1)),\n",
       " (25, (('incendio', 2), None)),\n",
       " (2, (('hurto', 2), 0)),\n",
       " (10, (('enriquecimiento_ilicito', 2), None)),\n",
       " (18, (('incendio', 1), 0)),\n",
       " (26, (('robo', 3), None)),\n",
       " (3, (('incendio', 1), 1)),\n",
       " (11, (('drogas', 1), 0)),\n",
       " (19, (('asesinato', 3), 1)),\n",
       " (27, (('incendio', 3), 0)),\n",
       " (4, (('robo', 2), None)),\n",
       " (12, (('comercio de armas', 1), 0)),\n",
       " (20, (('incendio', 2), 0)),\n",
       " (28, (('asesinato', 3), 1)),\n",
       " (5, (('comercio de armas', 1), 0)),\n",
       " (13, (('drogas', 3), 1)),\n",
       " (21, (('robo', 3), 1)),\n",
       " (29, (('incendio', 2), 1)),\n",
       " (6, (('comercio de armas', 3), 1)),\n",
       " (14, (('comercio', 1), None)),\n",
       " (22, (('asesinato', 1), 1)),\n",
       " (30, (('robo', 20181002), 0)),\n",
       " (7, (('asesinato', 1), None)),\n",
       " (15, (('comercio de armas', 3), None)),\n",
       " (23, (('incendio', 3), None))]"
      ]
     },
     "execution_count": 44,
     "metadata": {},
     "output_type": "execute_result"
    }
   ],
   "source": [
    "casos_join.collect()"
   ]
  },
  {
   "cell_type": "code",
   "execution_count": 45,
   "metadata": {},
   "outputs": [],
   "source": [
    "casos_filtrados = casos_join.filter(lambda x: x[1][1]!= 1)"
   ]
  },
  {
   "cell_type": "code",
   "execution_count": 46,
   "metadata": {},
   "outputs": [
    {
     "data": {
      "text/plain": [
       "[(16, (('drogas', 1), None)),\n",
       " (24, (('asesinato', 3), None)),\n",
       " (25, (('incendio', 2), None)),\n",
       " (2, (('hurto', 2), 0)),\n",
       " (10, (('enriquecimiento_ilicito', 2), None)),\n",
       " (18, (('incendio', 1), 0)),\n",
       " (26, (('robo', 3), None)),\n",
       " (11, (('drogas', 1), 0)),\n",
       " (27, (('incendio', 3), 0)),\n",
       " (4, (('robo', 2), None)),\n",
       " (12, (('comercio de armas', 1), 0)),\n",
       " (20, (('incendio', 2), 0)),\n",
       " (5, (('comercio de armas', 1), 0)),\n",
       " (14, (('comercio', 1), None)),\n",
       " (30, (('robo', 20181002), 0)),\n",
       " (7, (('asesinato', 1), None)),\n",
       " (15, (('comercio de armas', 3), None)),\n",
       " (23, (('incendio', 3), None))]"
      ]
     },
     "execution_count": 46,
     "metadata": {},
     "output_type": "execute_result"
    }
   ],
   "source": [
    "casos_filtrados.collect()"
   ]
  },
  {
   "cell_type": "code",
   "execution_count": 92,
   "metadata": {},
   "outputs": [
    {
     "data": {
      "text/plain": [
       "[('drogas', (False, 1)),\n",
       " ('asesinato', (False, 1)),\n",
       " ('incendio', (True, 1)),\n",
       " ('hurto', (True, 1)),\n",
       " ('enriquecimiento_ilicito', (True, 1)),\n",
       " ('incendio', (False, 1)),\n",
       " ('robo', (False, 1)),\n",
       " ('drogas', (False, 1)),\n",
       " ('incendio', (False, 1)),\n",
       " ('robo', (True, 1)),\n",
       " ('comercio de armas', (False, 1)),\n",
       " ('incendio', (True, 1)),\n",
       " ('comercio de armas', (False, 1)),\n",
       " ('comercio', (False, 1)),\n",
       " ('robo', (False, 1)),\n",
       " ('asesinato', (False, 1)),\n",
       " ('comercio de armas', (False, 1)),\n",
       " ('incendio', (False, 1))]"
      ]
     },
     "execution_count": 92,
     "metadata": {},
     "output_type": "execute_result"
    }
   ],
   "source": [
    "cf = casos_filtrados.map(lambda x: (x[1][0][0],((x[1][0][1]==2),1)))\n",
    "cf.collect()"
   ]
  },
  {
   "cell_type": "code",
   "execution_count": 93,
   "metadata": {},
   "outputs": [
    {
     "data": {
      "text/plain": [
       "[('drogas', (False, 1)),\n",
       " ('asesinato', (False, 1)),\n",
       " ('incendio', (True, 1)),\n",
       " ('hurto', (True, 1)),\n",
       " ('enriquecimiento_ilicito', (True, 1)),\n",
       " ('incendio', (False, 1)),\n",
       " ('robo', (False, 1)),\n",
       " ('drogas', (False, 1)),\n",
       " ('incendio', (False, 1)),\n",
       " ('robo', (True, 1)),\n",
       " ('comercio de armas', (False, 1)),\n",
       " ('incendio', (True, 1)),\n",
       " ('comercio de armas', (False, 1)),\n",
       " ('comercio', (False, 1)),\n",
       " ('robo', (False, 1)),\n",
       " ('asesinato', (False, 1)),\n",
       " ('comercio de armas', (False, 1)),\n",
       " ('incendio', (False, 1))]"
      ]
     },
     "execution_count": 93,
     "metadata": {},
     "output_type": "execute_result"
    }
   ],
   "source": [
    " cf\\\n",
    ".collect()"
   ]
  },
  {
   "cell_type": "code",
   "execution_count": 96,
   "metadata": {},
   "outputs": [
    {
     "data": {
      "text/plain": [
       "[('incendio', 0.4),\n",
       " ('enriquecimiento_ilicito', 1.0),\n",
       " ('asesinato', 0.0),\n",
       " ('comercio de armas', 0.0),\n",
       " ('robo', 0.3333333333333333),\n",
       " ('comercio', 0.0),\n",
       " ('hurto', 1.0),\n",
       " ('drogas', 0.0)]"
      ]
     },
     "execution_count": 96,
     "metadata": {},
     "output_type": "execute_result"
    }
   ],
   "source": [
    "cf1.reduceByKey(lambda x, y: (x[0]+y[0],x[1]+y[1]))\\\n",
    "    .map(lambda x: (x[0],float(x[1][0]/x[1][1]))).collect()"
   ]
  },
  {
   "cell_type": "code",
   "execution_count": null,
   "metadata": {},
   "outputs": [],
   "source": []
  },
  {
   "cell_type": "code",
   "execution_count": null,
   "metadata": {},
   "outputs": [],
   "source": []
  }
 ],
 "metadata": {
  "kernelspec": {
   "display_name": "Python 3",
   "language": "python",
   "name": "python3"
  },
  "language_info": {
   "codemirror_mode": {
    "name": "ipython",
    "version": 3
   },
   "file_extension": ".py",
   "mimetype": "text/x-python",
   "name": "python",
   "nbconvert_exporter": "python",
   "pygments_lexer": "ipython3",
   "version": "3.6.5"
  }
 },
 "nbformat": 4,
 "nbformat_minor": 2
}

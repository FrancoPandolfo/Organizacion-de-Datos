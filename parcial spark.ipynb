{
 "cells": [
  {
   "cell_type": "code",
   "execution_count": 205,
   "metadata": {},
   "outputs": [],
   "source": [
    "import pandas as pd\n",
    "import numpy as np\n",
    "import pyspark as spark\n",
    "from pyspark import SparkConf\n",
    "from pyspark.context import SparkContext\n",
    "\n",
    "sc = SparkContext.getOrCreate(SparkConf().setMaster(\"local[*]\"))"
   ]
  },
  {
   "cell_type": "markdown",
   "metadata": {},
   "source": [
    "1) tenemos informacion sobre recetas en 3 RDD de spark"
   ]
  },
  {
   "cell_type": "markdown",
   "metadata": {},
   "source": [
    "(id_receta, nombre, tiempo_preparacion, dificultad)"
   ]
  },
  {
   "cell_type": "code",
   "execution_count": 207,
   "metadata": {},
   "outputs": [],
   "source": [
    "Recetas = sc.parallelize([\n",
    "    (1,\"ensalada de pollo\", 5, 'facil'),\n",
    "    (2,\"ensalada de atun\", 5, 'facil'),\n",
    "    (3,\"ensalada de cordero\", 5,'facil'),\n",
    "    (4,\"wok de pollo\", 30, 'medio'),\n",
    "    (5,\"wok de cordero\", 30, 'medio'),\n",
    "    (6,\"risoto de pollo\", 40, 'dificil'),\n",
    "    (7,\"risoto de cordero\", 45, 'dificil'),\n",
    "    (8,\"hamburguesa\", 30, 'facil'),\n",
    "    (9,\"hamburguesa de cordero\", 35, 'facil'),\n",
    "    (10,\"pastel de papa\", 40, 'medio'),\n",
    "    (11,\"pizza\", 40, 'facil'),\n",
    "    (12,\"tomates rellenos\", 10, 'facil'),\n",
    "    (13,\"tortilla de papa\", 20, 'medio'),\n",
    "    (14,\"pollo al curry\", 30, 'medio'),\n",
    "    (15,\"pasta gratinada\", 30, 'medio'),\n",
    "])"
   ]
  },
  {
   "cell_type": "markdown",
   "metadata": {},
   "source": [
    "(id_ingredeinte, nombre)"
   ]
  },
  {
   "cell_type": "code",
   "execution_count": 208,
   "metadata": {},
   "outputs": [],
   "source": [
    "Ingredientes = sc.parallelize([\n",
    "        (1,\"lechuga\"),\n",
    "        (2,\"tomate\"),\n",
    "        (3,\"pollo\"),\n",
    "        (4,\"atun\"),\n",
    "        (5,\"cordero\"),\n",
    "        (6,\"carne\"),\n",
    "        (7,\"arroz\"),\n",
    "        (8,\"papa\"),\n",
    "        (9,\"pan\"),\n",
    "        (10,\"queso\"),\n",
    "        (11,\"fideos\"),\n",
    "        (12,\"morron\"),\n",
    "        (13,\"berenjena\"),\n",
    "        (14,\"zanahoria\"),\n",
    "        (15,\"masa\"),\n",
    "        (16,\"huevo\"),\n",
    "        (17,\"curry\"),\n",
    "])"
   ]
  },
  {
   "cell_type": "markdown",
   "metadata": {},
   "source": [
    "(id_receta, id_ingrediente, cantidad)"
   ]
  },
  {
   "cell_type": "code",
   "execution_count": 209,
   "metadata": {},
   "outputs": [],
   "source": [
    "Ingredientes_por_receta = sc.parallelize([\\\n",
    "    (1, 1, 1),\n",
    "    (1, 2, 2),\n",
    "    (1, 3, 1),                                    \n",
    "    (2, 1, 1),\n",
    "    (2, 2, 2),\n",
    "    (2, 4, 1),                                      \n",
    "    (3, 1, 1),\n",
    "    (3, 2, 2),\n",
    "    (3, 5, 1),                                     \n",
    "    (4, 3, 1),\n",
    "    (4, 12, 2),\n",
    "    (4, 13, 2),\n",
    "    (4, 14, 3),                                      \n",
    "    (5, 5, 1),\n",
    "    (5, 12, 2),\n",
    "    (5, 13, 2),\n",
    "    (5, 14, 3),                                      \n",
    "    (6, 3, 1),\n",
    "    (6, 7, 1),                                      \n",
    "    (7, 5, 1),\n",
    "    (7, 7, 1),                                      \n",
    "    (8, 6, 1),\n",
    "    (8, 9, 2),                                      \n",
    "    (9, 5, 1),\n",
    "    (9, 9, 2),                                      \n",
    "    (10, 6, 1),\n",
    "    (10, 8, 4),                                      \n",
    "    (11, 15, 1),\n",
    "    (11, 10, 1),                                      \n",
    "    (12, 2, 3),\n",
    "    (12, 10, 1),                                      \n",
    "    (13, 8, 4),\n",
    "    (13, 16, 3),                                      \n",
    "    (14, 3, 1),\n",
    "    (14, 17, 1),                                      \n",
    "    (15, 11, 1),\n",
    "    (15, 10, 1),                                      \n",
    "])"
   ]
  },
  {
   "cell_type": "markdown",
   "metadata": {},
   "source": [
    "a) Obtener el nombre de todas las recetas que tengan cordero"
   ]
  },
  {
   "cell_type": "code",
   "execution_count": 210,
   "metadata": {
    "scrolled": true
   },
   "outputs": [
    {
     "data": {
      "text/plain": [
       "[(5, 0)]"
      ]
     },
     "execution_count": 210,
     "metadata": {},
     "output_type": "execute_result"
    }
   ],
   "source": [
    "#filtro ingredientes por cordero y me quedo con id_ingrediente\n",
    "ingr = Ingredientes.filter(lambda x: x[1] == 'cordero')\n",
    "ingr = ingr.map(lambda x: (x[0],0)).collect()\n",
    "ingr"
   ]
  },
  {
   "cell_type": "code",
   "execution_count": 211,
   "metadata": {},
   "outputs": [
    {
     "data": {
      "text/plain": [
       "[(1, 1),\n",
       " (2, 1),\n",
       " (3, 1),\n",
       " (1, 2),\n",
       " (2, 2),\n",
       " (4, 2),\n",
       " (1, 3),\n",
       " (2, 3),\n",
       " (5, 3),\n",
       " (3, 4),\n",
       " (12, 4),\n",
       " (13, 4),\n",
       " (14, 4),\n",
       " (5, 5),\n",
       " (12, 5),\n",
       " (13, 5),\n",
       " (14, 5),\n",
       " (3, 6),\n",
       " (7, 6),\n",
       " (5, 7),\n",
       " (7, 7),\n",
       " (6, 8),\n",
       " (9, 8),\n",
       " (5, 9),\n",
       " (9, 9),\n",
       " (6, 10),\n",
       " (8, 10),\n",
       " (15, 11),\n",
       " (10, 11),\n",
       " (2, 12),\n",
       " (10, 12),\n",
       " (8, 13),\n",
       " (16, 13),\n",
       " (3, 14),\n",
       " (17, 14),\n",
       " (11, 15),\n",
       " (10, 15)]"
      ]
     },
     "execution_count": 211,
     "metadata": {},
     "output_type": "execute_result"
    }
   ],
   "source": [
    "#me quedo con id_ingrediente y id_receta de ingredientes por receta\n",
    "ingXreceta = Ingredientes_por_receta.map(lambda x: (x[1],x[0])).collect()\n",
    "ingXreceta"
   ]
  },
  {
   "cell_type": "code",
   "execution_count": 212,
   "metadata": {},
   "outputs": [
    {
     "data": {
      "text/plain": [
       "[(5, (3, 0)), (5, (5, 0)), (5, (7, 0)), (5, (9, 0))]"
      ]
     },
     "execution_count": 212,
     "metadata": {},
     "output_type": "execute_result"
    }
   ],
   "source": [
    "#hago un join por id_ingrediente\n",
    "ingXreceta = sc.parallelize(ingXreceta)\n",
    "ingr = sc.parallelize(ingr)\n",
    "ing = ingXreceta.join(ingr).collect()\n",
    "ing"
   ]
  },
  {
   "cell_type": "code",
   "execution_count": 213,
   "metadata": {},
   "outputs": [
    {
     "data": {
      "text/plain": [
       "[(5, 3), (5, 5), (5, 7), (5, 9)]"
      ]
     },
     "execution_count": 213,
     "metadata": {},
     "output_type": "execute_result"
    }
   ],
   "source": [
    "#hago un map para eliminar el 0 de mas\n",
    "ing = sc.parallelize(ing)\n",
    "ing = ing.map(lambda x: (x[0],x[1][0])).collect()\n",
    "ing"
   ]
  },
  {
   "cell_type": "code",
   "execution_count": 214,
   "metadata": {},
   "outputs": [
    {
     "data": {
      "text/plain": [
       "[(3, 0), (5, 0), (7, 0), (9, 0)]"
      ]
     },
     "execution_count": 214,
     "metadata": {},
     "output_type": "execute_result"
    }
   ],
   "source": [
    "#me quedo solo con id_receta\n",
    "ing = sc.parallelize(ing)\n",
    "ing = ing.map(lambda x: (x[1],0)).collect()\n",
    "ing"
   ]
  },
  {
   "cell_type": "code",
   "execution_count": 215,
   "metadata": {},
   "outputs": [
    {
     "data": {
      "text/plain": [
       "[(1, 'ensalada de pollo'),\n",
       " (2, 'ensalada de atun'),\n",
       " (3, 'ensalada de cordero'),\n",
       " (4, 'wok de pollo'),\n",
       " (5, 'wok de cordero'),\n",
       " (6, 'risoto de pollo'),\n",
       " (7, 'risoto de cordero'),\n",
       " (8, 'hamburguesa'),\n",
       " (9, 'hamburguesa de cordero'),\n",
       " (10, 'pastel de papa'),\n",
       " (11, 'pizza'),\n",
       " (12, 'tomates rellenos'),\n",
       " (13, 'tortilla de papa'),\n",
       " (14, 'pollo al curry'),\n",
       " (15, 'pasta gratinada')]"
      ]
     },
     "execution_count": 215,
     "metadata": {},
     "output_type": "execute_result"
    }
   ],
   "source": [
    "#me quedo con id_receta y nombre\n",
    "rec = Recetas.map(lambda x: (x[0],x[1])).collect()\n",
    "rec"
   ]
  },
  {
   "cell_type": "code",
   "execution_count": 216,
   "metadata": {},
   "outputs": [
    {
     "data": {
      "text/plain": [
       "[(9, ('hamburguesa de cordero', 0)),\n",
       " (3, ('ensalada de cordero', 0)),\n",
       " (5, ('wok de cordero', 0)),\n",
       " (7, ('risoto de cordero', 0))]"
      ]
     },
     "execution_count": 216,
     "metadata": {},
     "output_type": "execute_result"
    }
   ],
   "source": [
    "#hago join por id_receta\n",
    "ing = sc.parallelize(ing)\n",
    "rec = sc.parallelize(rec)\n",
    "cordero = rec.join(ing).collect()\n",
    "cordero"
   ]
  },
  {
   "cell_type": "code",
   "execution_count": 217,
   "metadata": {},
   "outputs": [
    {
     "data": {
      "text/plain": [
       "['hamburguesa de cordero',\n",
       " 'ensalada de cordero',\n",
       " 'wok de cordero',\n",
       " 'risoto de cordero']"
      ]
     },
     "execution_count": 217,
     "metadata": {},
     "output_type": "execute_result"
    }
   ],
   "source": [
    "#saco el 0 de mas\n",
    "cordero1 = sc.parallelize(cordero)\n",
    "cordero1 = cordero1.map(lambda x: x[1][0]).collect()\n",
    "cordero1"
   ]
  },
  {
   "cell_type": "markdown",
   "metadata": {},
   "source": [
    "b) calcular la cantidad total de cada ingrediente si queremos hacer todas las recetas con cordero que sean faciles."
   ]
  },
  {
   "cell_type": "code",
   "execution_count": 218,
   "metadata": {},
   "outputs": [
    {
     "data": {
      "text/plain": [
       "[(9, 'hamburguesa de cordero'),\n",
       " (3, 'ensalada de cordero'),\n",
       " (5, 'wok de cordero'),\n",
       " (7, 'risoto de cordero')]"
      ]
     },
     "execution_count": 218,
     "metadata": {},
     "output_type": "execute_result"
    }
   ],
   "source": [
    "#saco el 0 de mas de cordero\n",
    "cordero = sc.parallelize(cordero)\n",
    "cordero = cordero.map(lambda x: (x[0],x[1][0])).collect()\n",
    "cordero"
   ]
  },
  {
   "cell_type": "code",
   "execution_count": 219,
   "metadata": {},
   "outputs": [
    {
     "data": {
      "text/plain": [
       "[(1, 'ensalada de pollo', 5, 'facil'),\n",
       " (2, 'ensalada de atun', 5, 'facil'),\n",
       " (3, 'ensalada de cordero', 5, 'facil'),\n",
       " (8, 'hamburguesa', 30, 'facil'),\n",
       " (9, 'hamburguesa de cordero', 35, 'facil'),\n",
       " (11, 'pizza', 40, 'facil'),\n",
       " (12, 'tomates rellenos', 10, 'facil')]"
      ]
     },
     "execution_count": 219,
     "metadata": {},
     "output_type": "execute_result"
    }
   ],
   "source": [
    "#me quedo solo con recetas faciles\n",
    "rece = Recetas.filter(lambda x: x[3] == 'facil').collect()\n",
    "rece"
   ]
  },
  {
   "cell_type": "code",
   "execution_count": 220,
   "metadata": {},
   "outputs": [
    {
     "data": {
      "text/plain": [
       "[(1, 0), (2, 0), (3, 0), (8, 0), (9, 0), (11, 0), (12, 0)]"
      ]
     },
     "execution_count": 220,
     "metadata": {},
     "output_type": "execute_result"
    }
   ],
   "source": [
    "#map por id_receta\n",
    "rece = sc.parallelize(rece)\n",
    "rece = rece.map(lambda x: (x[0],0)).collect()\n",
    "rece"
   ]
  },
  {
   "cell_type": "code",
   "execution_count": 221,
   "metadata": {},
   "outputs": [
    {
     "data": {
      "text/plain": [
       "[(9, ('hamburguesa de cordero', 0)), (3, ('ensalada de cordero', 0))]"
      ]
     },
     "execution_count": 221,
     "metadata": {},
     "output_type": "execute_result"
    }
   ],
   "source": [
    "#hago join por id_receta\n",
    "cordero = sc.parallelize(cordero)\n",
    "rece = sc.parallelize(rece)\n",
    "cordero = cordero.join(rece).collect()\n",
    "cordero"
   ]
  },
  {
   "cell_type": "code",
   "execution_count": 222,
   "metadata": {},
   "outputs": [
    {
     "data": {
      "text/plain": [
       "[(9, 'hamburguesa de cordero'), (3, 'ensalada de cordero')]"
      ]
     },
     "execution_count": 222,
     "metadata": {},
     "output_type": "execute_result"
    }
   ],
   "source": [
    "#saco el 0 de mas\n",
    "cordero = sc.parallelize(cordero)\n",
    "cordero = cordero.map(lambda x: (x[0],x[1][0])).collect()\n",
    "cordero"
   ]
  },
  {
   "cell_type": "code",
   "execution_count": 223,
   "metadata": {},
   "outputs": [
    {
     "data": {
      "text/plain": [
       "[(1, (1, 1)),\n",
       " (1, (2, 2)),\n",
       " (1, (3, 1)),\n",
       " (2, (1, 1)),\n",
       " (2, (2, 2)),\n",
       " (2, (4, 1)),\n",
       " (3, (1, 1)),\n",
       " (3, (2, 2)),\n",
       " (3, (5, 1)),\n",
       " (4, (3, 1)),\n",
       " (4, (12, 2)),\n",
       " (4, (13, 2)),\n",
       " (4, (14, 3)),\n",
       " (5, (5, 1)),\n",
       " (5, (12, 2)),\n",
       " (5, (13, 2)),\n",
       " (5, (14, 3)),\n",
       " (6, (3, 1)),\n",
       " (6, (7, 1)),\n",
       " (7, (5, 1)),\n",
       " (7, (7, 1)),\n",
       " (8, (6, 1)),\n",
       " (8, (9, 2)),\n",
       " (9, (5, 1)),\n",
       " (9, (9, 2)),\n",
       " (10, (6, 1)),\n",
       " (10, (8, 4)),\n",
       " (11, (15, 1)),\n",
       " (11, (10, 1)),\n",
       " (12, (2, 3)),\n",
       " (12, (10, 1)),\n",
       " (13, (8, 4)),\n",
       " (13, (16, 3)),\n",
       " (14, (3, 1)),\n",
       " (14, (17, 1)),\n",
       " (15, (11, 1)),\n",
       " (15, (10, 1))]"
      ]
     },
     "execution_count": 223,
     "metadata": {},
     "output_type": "execute_result"
    }
   ],
   "source": [
    "#mapeo ingredientes por receta\n",
    "ingred = Ingredientes_por_receta.map(lambda x: (x[0],(x[1],x[2]))).collect()\n",
    "ingred"
   ]
  },
  {
   "cell_type": "code",
   "execution_count": 224,
   "metadata": {},
   "outputs": [
    {
     "data": {
      "text/plain": [
       "[(9, ((5, 1), 'hamburguesa de cordero')),\n",
       " (9, ((9, 2), 'hamburguesa de cordero')),\n",
       " (3, ((1, 1), 'ensalada de cordero')),\n",
       " (3, ((2, 2), 'ensalada de cordero')),\n",
       " (3, ((5, 1), 'ensalada de cordero'))]"
      ]
     },
     "execution_count": 224,
     "metadata": {},
     "output_type": "execute_result"
    }
   ],
   "source": [
    "#join con recetas\n",
    "cordero = sc.parallelize(cordero)\n",
    "ingred = sc.parallelize(ingred)\n",
    "cordero = ingred.join(cordero).collect()\n",
    "cordero\n"
   ]
  },
  {
   "cell_type": "code",
   "execution_count": 225,
   "metadata": {},
   "outputs": [
    {
     "data": {
      "text/plain": [
       "[(5, (1, 'hamburguesa de cordero')),\n",
       " (9, (2, 'hamburguesa de cordero')),\n",
       " (1, (1, 'ensalada de cordero')),\n",
       " (2, (2, 'ensalada de cordero')),\n",
       " (5, (1, 'ensalada de cordero'))]"
      ]
     },
     "execution_count": 225,
     "metadata": {},
     "output_type": "execute_result"
    }
   ],
   "source": [
    "#me quedo con id_ingrediente cantidad y receta\n",
    "cordero = sc.parallelize(cordero)\n",
    "cordero = cordero.map(lambda x: (x[1][0][0], (x[1][0][1],x[1][1]))).collect()\n",
    "cordero"
   ]
  },
  {
   "cell_type": "code",
   "execution_count": 226,
   "metadata": {},
   "outputs": [
    {
     "data": {
      "text/plain": [
       "[(1, (1, 'ensalada de cordero')),\n",
       " (2, (2, 'ensalada de cordero')),\n",
       " (5, (1, 'hamburguesa de cordero')),\n",
       " (5, (1, 'ensalada de cordero')),\n",
       " (9, (2, 'hamburguesa de cordero'))]"
      ]
     },
     "execution_count": 226,
     "metadata": {},
     "output_type": "execute_result"
    }
   ],
   "source": [
    "#ordeno menor a mayor\n",
    "cordero = sc.parallelize(cordero)\n",
    "cordero = cordero.sortByKey(ascending=True).collect()\n",
    "cordero"
   ]
  },
  {
   "cell_type": "code",
   "execution_count": 228,
   "metadata": {},
   "outputs": [
    {
     "data": {
      "text/plain": [
       "[(1, 'lechuga'),\n",
       " (2, 'tomate'),\n",
       " (3, 'pollo'),\n",
       " (4, 'atun'),\n",
       " (5, 'cordero'),\n",
       " (6, 'carne'),\n",
       " (7, 'arroz'),\n",
       " (8, 'papa'),\n",
       " (9, 'pan'),\n",
       " (10, 'queso'),\n",
       " (11, 'fideos'),\n",
       " (12, 'morron'),\n",
       " (13, 'berenjena'),\n",
       " (14, 'zanahoria'),\n",
       " (15, 'masa'),\n",
       " (16, 'huevo'),\n",
       " (17, 'curry')]"
      ]
     },
     "execution_count": 228,
     "metadata": {},
     "output_type": "execute_result"
    }
   ],
   "source": [
    "#hago un map de ingredientes\n",
    "Ingredientes = Ingredientes.map(lambda x: (x[0],x[1])).collect()\n",
    "Ingredientes\n"
   ]
  },
  {
   "cell_type": "code",
   "execution_count": 229,
   "metadata": {},
   "outputs": [
    {
     "data": {
      "text/plain": [
       "[(1, ((1, 'ensalada de cordero'), 'lechuga')),\n",
       " (9, ((2, 'hamburguesa de cordero'), 'pan')),\n",
       " (2, ((2, 'ensalada de cordero'), 'tomate')),\n",
       " (5, ((1, 'hamburguesa de cordero'), 'cordero')),\n",
       " (5, ((1, 'ensalada de cordero'), 'cordero'))]"
      ]
     },
     "execution_count": 229,
     "metadata": {},
     "output_type": "execute_result"
    }
   ],
   "source": [
    "#hago un join con ingredientes\n",
    "Ingredientes = sc.parallelize(Ingredientes)\n",
    "cordero = sc.parallelize(cordero)\n",
    "cordero = cordero.join(Ingredientes).collect()\n",
    "cordero"
   ]
  },
  {
   "cell_type": "code",
   "execution_count": 231,
   "metadata": {},
   "outputs": [
    {
     "data": {
      "text/plain": [
       "[('ensalada de cordero', 'lechuga', 1),\n",
       " ('hamburguesa de cordero', 'pan', 2),\n",
       " ('ensalada de cordero', 'tomate', 2),\n",
       " ('hamburguesa de cordero', 'cordero', 1),\n",
       " ('ensalada de cordero', 'cordero', 1)]"
      ]
     },
     "execution_count": 231,
     "metadata": {},
     "output_type": "execute_result"
    }
   ],
   "source": [
    "#me quedo con nombre receta, nombre ingrediente y cantidad\n",
    "cordero = sc.parallelize(cordero)\n",
    "cordero = cordero.map(lambda x: (x[1][0][1], x[1][1], x[1][0][0])).collect()\n",
    "cordero"
   ]
  },
  {
   "cell_type": "code",
   "execution_count": 233,
   "metadata": {},
   "outputs": [
    {
     "data": {
      "text/plain": [
       "[('ensalada de cordero', 'lechuga', 1),\n",
       " ('ensalada de cordero', 'tomate', 2),\n",
       " ('ensalada de cordero', 'cordero', 1),\n",
       " ('hamburguesa de cordero', 'pan', 2),\n",
       " ('hamburguesa de cordero', 'cordero', 1)]"
      ]
     },
     "execution_count": 233,
     "metadata": {},
     "output_type": "execute_result"
    }
   ],
   "source": [
    "#ordeno\n",
    "cordero = sc.parallelize(cordero)\n",
    "cordero = cordero.sortBy(lambda x: x[0], True).collect()\n",
    "cordero"
   ]
  }
 ],
 "metadata": {
  "kernelspec": {
   "display_name": "Python 3",
   "language": "python",
   "name": "python3"
  },
  "language_info": {
   "codemirror_mode": {
    "name": "ipython",
    "version": 3
   },
   "file_extension": ".py",
   "mimetype": "text/x-python",
   "name": "python",
   "nbconvert_exporter": "python",
   "pygments_lexer": "ipython3",
   "version": "3.7.0"
  }
 },
 "nbformat": 4,
 "nbformat_minor": 2
}
